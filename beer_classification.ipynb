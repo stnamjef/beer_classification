{
 "cells": [
  {
   "cell_type": "code",
   "execution_count": 84,
   "metadata": {},
   "outputs": [],
   "source": [
    "import numpy as np\n",
    "import pandas as pd\n",
    "import matplotlib.pyplot as plt\n",
    "\n",
    "from scipy.spatial.distance import pdist, squareform\n",
    "from scipy.cluster.hierarchy import linkage, dendrogram, cut_tree\n",
    "from sklearn.metrics import silhouette_score"
   ]
  },
  {
   "cell_type": "markdown",
   "metadata": {},
   "source": [
    "# 1. Data preparation"
   ]
  },
  {
   "cell_type": "markdown",
   "metadata": {},
   "source": [
    "### load data"
   ]
  },
  {
   "cell_type": "code",
   "execution_count": 409,
   "metadata": {},
   "outputs": [],
   "source": [
    "df = pd.read_csv('./data/tasting_notes.csv')"
   ]
  },
  {
   "cell_type": "code",
   "execution_count": 410,
   "metadata": {
    "scrolled": false
   },
   "outputs": [
    {
     "data": {
      "text/html": [
       "<div>\n",
       "<style scoped>\n",
       "    .dataframe tbody tr th:only-of-type {\n",
       "        vertical-align: middle;\n",
       "    }\n",
       "\n",
       "    .dataframe tbody tr th {\n",
       "        vertical-align: top;\n",
       "    }\n",
       "\n",
       "    .dataframe thead th {\n",
       "        text-align: right;\n",
       "    }\n",
       "</style>\n",
       "<table border=\"1\" class=\"dataframe\">\n",
       "  <thead>\n",
       "    <tr style=\"text-align: right;\">\n",
       "      <th></th>\n",
       "      <th>Country</th>\n",
       "      <th>Company</th>\n",
       "      <th>Name</th>\n",
       "      <th>Aroma</th>\n",
       "      <th>Flavor</th>\n",
       "      <th>Color</th>\n",
       "      <th>Body</th>\n",
       "    </tr>\n",
       "  </thead>\n",
       "  <tbody>\n",
       "    <tr>\n",
       "      <th>0</th>\n",
       "      <td>Germany</td>\n",
       "      <td>Spaten</td>\n",
       "      <td>Spaten Munich Helles Premium Lager</td>\n",
       "      <td>toasty, hop</td>\n",
       "      <td>bitter, sweet, pomaceous fruit, floral</td>\n",
       "      <td>straw</td>\n",
       "      <td>3.0</td>\n",
       "    </tr>\n",
       "    <tr>\n",
       "      <th>1</th>\n",
       "      <td>Germany</td>\n",
       "      <td>Spaten</td>\n",
       "      <td>Spaten Oktoberfestbier</td>\n",
       "      <td>sweet, caramel</td>\n",
       "      <td>citrus fruit, nutty</td>\n",
       "      <td>straw</td>\n",
       "      <td>4.0</td>\n",
       "    </tr>\n",
       "    <tr>\n",
       "      <th>2</th>\n",
       "      <td>Germany</td>\n",
       "      <td>Bitburger</td>\n",
       "      <td>Bitbruger Premium Pils</td>\n",
       "      <td>grassy, pomaceous fruit, fresh</td>\n",
       "      <td>neat, hop, nutty, malty</td>\n",
       "      <td>gold</td>\n",
       "      <td>2.0</td>\n",
       "    </tr>\n",
       "    <tr>\n",
       "      <th>3</th>\n",
       "      <td>Germany</td>\n",
       "      <td>Hofbr?u M?nchen</td>\n",
       "      <td>Hofbr?u M?nchen Original Larger</td>\n",
       "      <td>floral, sweet, malty</td>\n",
       "      <td>nutty, malty, bitter, sweet</td>\n",
       "      <td>gold</td>\n",
       "      <td>3.0</td>\n",
       "    </tr>\n",
       "    <tr>\n",
       "      <th>4</th>\n",
       "      <td>Germany</td>\n",
       "      <td>Weltenburger</td>\n",
       "      <td>Weltenburger Barock Dunkel</td>\n",
       "      <td>roasty, malty, hop</td>\n",
       "      <td>sweet, toasty</td>\n",
       "      <td>brown</td>\n",
       "      <td>3.0</td>\n",
       "    </tr>\n",
       "  </tbody>\n",
       "</table>\n",
       "</div>"
      ],
      "text/plain": [
       "   Country          Company                                Name  \\\n",
       "0  Germany           Spaten  Spaten Munich Helles Premium Lager   \n",
       "1  Germany           Spaten              Spaten Oktoberfestbier   \n",
       "2  Germany        Bitburger              Bitbruger Premium Pils   \n",
       "3  Germany  Hofbr?u M?nchen     Hofbr?u M?nchen Original Larger   \n",
       "4  Germany     Weltenburger          Weltenburger Barock Dunkel   \n",
       "\n",
       "                            Aroma                                  Flavor  \\\n",
       "0                     toasty, hop  bitter, sweet, pomaceous fruit, floral   \n",
       "1                  sweet, caramel                     citrus fruit, nutty   \n",
       "2  grassy, pomaceous fruit, fresh                 neat, hop, nutty, malty   \n",
       "3            floral, sweet, malty             nutty, malty, bitter, sweet   \n",
       "4              roasty, malty, hop                           sweet, toasty   \n",
       "\n",
       "   Color  Body  \n",
       "0  straw   3.0  \n",
       "1  straw   4.0  \n",
       "2   gold   2.0  \n",
       "3   gold   3.0  \n",
       "4  brown   3.0  "
      ]
     },
     "execution_count": 410,
     "metadata": {},
     "output_type": "execute_result"
    }
   ],
   "source": [
    "df.head()"
   ]
  },
  {
   "cell_type": "markdown",
   "metadata": {},
   "source": [
    "### drop all rows with NaN in 'Body' column"
   ]
  },
  {
   "cell_type": "code",
   "execution_count": 411,
   "metadata": {},
   "outputs": [],
   "source": [
    "df = df[df['Body'].notna()]"
   ]
  },
  {
   "cell_type": "code",
   "execution_count": 412,
   "metadata": {},
   "outputs": [
    {
     "data": {
      "text/plain": [
       "92"
      ]
     },
     "execution_count": 412,
     "metadata": {},
     "output_type": "execute_result"
    }
   ],
   "source": [
    "len(df)"
   ]
  },
  {
   "cell_type": "markdown",
   "metadata": {},
   "source": [
    "### split string in ['Aroma', 'Flavor'] into words"
   ]
  },
  {
   "cell_type": "code",
   "execution_count": 413,
   "metadata": {},
   "outputs": [],
   "source": [
    "data = {'Aroma': [], 'Flavor': []}\n",
    "for row in df[data.keys()].iterrows():\n",
    "    _, (aroma, flavor) = row\n",
    "    data['Aroma'] += [x.strip().replace(' ', '_') for x in aroma.split(',')]\n",
    "    data['Flavor'] += [x.strip().replace(' ', '_') for x in flavor.split(',')]"
   ]
  },
  {
   "cell_type": "markdown",
   "metadata": {},
   "source": [
    "### remove words with less than 6 counts"
   ]
  },
  {
   "cell_type": "code",
   "execution_count": 414,
   "metadata": {},
   "outputs": [],
   "source": [
    "# convert list to Pandas Series and count unique values\n",
    "data = {k: pd.Series(v).value_counts() for k, v in data.items()}\n",
    "\n",
    "# remove words with less than 3 counts\n",
    "data = {k: v.loc[v >= 6].index.values for k, v in data.items()}"
   ]
  },
  {
   "cell_type": "markdown",
   "metadata": {},
   "source": [
    "### add two characteristics (Color, Body)"
   ]
  },
  {
   "cell_type": "code",
   "execution_count": 415,
   "metadata": {},
   "outputs": [],
   "source": [
    "data['Color'] = ['straw', 'gold', 'amber', 'brown', 'black']\n",
    "data['Body'] = ['light', 'light_medium', 'medium', 'medium_heavy', 'heavy']"
   ]
  },
  {
   "cell_type": "code",
   "execution_count": 416,
   "metadata": {
    "scrolled": true
   },
   "outputs": [
    {
     "data": {
      "text/plain": [
       "{'Aroma': array(['sweet', 'citrus_fruit', 'spicy', 'pomaceous_fruit', 'banana',\n",
       "        'fruity', 'caramel', 'hop', 'dried_fruit', 'malty', 'fresh',\n",
       "        'roasty', 'citrus', 'berry', 'grassy'], dtype=object),\n",
       " 'Flavor': array(['sweet', 'citrus_fruit', 'bitter', 'caramel', 'nutty', 'hop',\n",
       "        'spicy', 'citrus', 'fruity', 'fresh', 'pomaceous_fruit', 'roasty',\n",
       "        'toasty', 'smoky', 'dried_fruit', 'bready', 'malty', 'berry'],\n",
       "       dtype=object),\n",
       " 'Color': ['straw', 'gold', 'amber', 'brown', 'black'],\n",
       " 'Body': ['light', 'light_medium', 'medium', 'medium_heavy', 'heavy']}"
      ]
     },
     "execution_count": 416,
     "metadata": {},
     "output_type": "execute_result"
    }
   ],
   "source": [
    "data"
   ]
  },
  {
   "cell_type": "markdown",
   "metadata": {},
   "source": [
    "### concat all characteristics into one list"
   ]
  },
  {
   "cell_type": "code",
   "execution_count": 418,
   "metadata": {},
   "outputs": [],
   "source": [
    "columns = []\n",
    "for k, v in data.items():\n",
    "    k = k.lower()\n",
    "    columns += [f'{k}_{x}' for x in list(v)]\n",
    "columns = np.array(columns)"
   ]
  },
  {
   "cell_type": "markdown",
   "metadata": {},
   "source": [
    "### make new DataFrame\n",
    "(index: beer names, rows: binary values, columns: characteristics)"
   ]
  },
  {
   "cell_type": "code",
   "execution_count": 419,
   "metadata": {
    "scrolled": false
   },
   "outputs": [],
   "source": [
    "mat = []\n",
    "for _, row in df[['Aroma', 'Flavor', 'Color', 'Body']].iterrows():\n",
    "    new_row = np.zeros(len(columns), dtype=np.int32)\n",
    "    \n",
    "    targets = []\n",
    "    for k, v in row.iteritems():\n",
    "        k = k.lower()\n",
    "        if k == 'aroma' or k == 'flavor':\n",
    "            targets += [f\"{k}_{x.strip().replace(' ', '_')}\" for x in v.split(',')]\n",
    "        elif k == 'color':\n",
    "            targets += [f'{k}_{v.strip()}']\n",
    "        else:\n",
    "            v = data['Body'][int(v) - 1]\n",
    "            targets += [f'{k}_{v}']\n",
    "    \n",
    "    for t in targets:\n",
    "        target_idx = np.where(columns == t)[0]\n",
    "        new_row[target_idx] = 1\n",
    "    \n",
    "    mat.append(new_row)\n",
    "    \n",
    "mat = np.array(mat, dtype=np.int32)"
   ]
  },
  {
   "cell_type": "code",
   "execution_count": 420,
   "metadata": {},
   "outputs": [],
   "source": [
    "df2 = pd.DataFrame(data=mat, columns=columns, index=pd.Index(df['Name'], name='Name'))"
   ]
  },
  {
   "cell_type": "code",
   "execution_count": 421,
   "metadata": {},
   "outputs": [
    {
     "data": {
      "text/html": [
       "<div>\n",
       "<style scoped>\n",
       "    .dataframe tbody tr th:only-of-type {\n",
       "        vertical-align: middle;\n",
       "    }\n",
       "\n",
       "    .dataframe tbody tr th {\n",
       "        vertical-align: top;\n",
       "    }\n",
       "\n",
       "    .dataframe thead th {\n",
       "        text-align: right;\n",
       "    }\n",
       "</style>\n",
       "<table border=\"1\" class=\"dataframe\">\n",
       "  <thead>\n",
       "    <tr style=\"text-align: right;\">\n",
       "      <th></th>\n",
       "      <th>aroma_sweet</th>\n",
       "      <th>aroma_citrus_fruit</th>\n",
       "      <th>aroma_spicy</th>\n",
       "      <th>aroma_pomaceous_fruit</th>\n",
       "      <th>aroma_banana</th>\n",
       "      <th>aroma_fruity</th>\n",
       "      <th>aroma_caramel</th>\n",
       "      <th>aroma_hop</th>\n",
       "      <th>aroma_dried_fruit</th>\n",
       "      <th>aroma_malty</th>\n",
       "      <th>...</th>\n",
       "      <th>color_straw</th>\n",
       "      <th>color_gold</th>\n",
       "      <th>color_amber</th>\n",
       "      <th>color_brown</th>\n",
       "      <th>color_black</th>\n",
       "      <th>body_light</th>\n",
       "      <th>body_light_medium</th>\n",
       "      <th>body_medium</th>\n",
       "      <th>body_medium_heavy</th>\n",
       "      <th>body_heavy</th>\n",
       "    </tr>\n",
       "    <tr>\n",
       "      <th>Name</th>\n",
       "      <th></th>\n",
       "      <th></th>\n",
       "      <th></th>\n",
       "      <th></th>\n",
       "      <th></th>\n",
       "      <th></th>\n",
       "      <th></th>\n",
       "      <th></th>\n",
       "      <th></th>\n",
       "      <th></th>\n",
       "      <th></th>\n",
       "      <th></th>\n",
       "      <th></th>\n",
       "      <th></th>\n",
       "      <th></th>\n",
       "      <th></th>\n",
       "      <th></th>\n",
       "      <th></th>\n",
       "      <th></th>\n",
       "      <th></th>\n",
       "      <th></th>\n",
       "    </tr>\n",
       "  </thead>\n",
       "  <tbody>\n",
       "    <tr>\n",
       "      <th>Spaten Munich Helles Premium Lager</th>\n",
       "      <td>0</td>\n",
       "      <td>0</td>\n",
       "      <td>0</td>\n",
       "      <td>0</td>\n",
       "      <td>0</td>\n",
       "      <td>0</td>\n",
       "      <td>0</td>\n",
       "      <td>1</td>\n",
       "      <td>0</td>\n",
       "      <td>0</td>\n",
       "      <td>...</td>\n",
       "      <td>1</td>\n",
       "      <td>0</td>\n",
       "      <td>0</td>\n",
       "      <td>0</td>\n",
       "      <td>0</td>\n",
       "      <td>0</td>\n",
       "      <td>0</td>\n",
       "      <td>1</td>\n",
       "      <td>0</td>\n",
       "      <td>0</td>\n",
       "    </tr>\n",
       "    <tr>\n",
       "      <th>Spaten Oktoberfestbier</th>\n",
       "      <td>1</td>\n",
       "      <td>0</td>\n",
       "      <td>0</td>\n",
       "      <td>0</td>\n",
       "      <td>0</td>\n",
       "      <td>0</td>\n",
       "      <td>1</td>\n",
       "      <td>0</td>\n",
       "      <td>0</td>\n",
       "      <td>0</td>\n",
       "      <td>...</td>\n",
       "      <td>1</td>\n",
       "      <td>0</td>\n",
       "      <td>0</td>\n",
       "      <td>0</td>\n",
       "      <td>0</td>\n",
       "      <td>0</td>\n",
       "      <td>0</td>\n",
       "      <td>0</td>\n",
       "      <td>1</td>\n",
       "      <td>0</td>\n",
       "    </tr>\n",
       "    <tr>\n",
       "      <th>Bitbruger Premium Pils</th>\n",
       "      <td>0</td>\n",
       "      <td>0</td>\n",
       "      <td>0</td>\n",
       "      <td>1</td>\n",
       "      <td>0</td>\n",
       "      <td>0</td>\n",
       "      <td>0</td>\n",
       "      <td>0</td>\n",
       "      <td>0</td>\n",
       "      <td>0</td>\n",
       "      <td>...</td>\n",
       "      <td>0</td>\n",
       "      <td>1</td>\n",
       "      <td>0</td>\n",
       "      <td>0</td>\n",
       "      <td>0</td>\n",
       "      <td>0</td>\n",
       "      <td>1</td>\n",
       "      <td>0</td>\n",
       "      <td>0</td>\n",
       "      <td>0</td>\n",
       "    </tr>\n",
       "    <tr>\n",
       "      <th>Hofbr?u M?nchen Original Larger</th>\n",
       "      <td>1</td>\n",
       "      <td>0</td>\n",
       "      <td>0</td>\n",
       "      <td>0</td>\n",
       "      <td>0</td>\n",
       "      <td>0</td>\n",
       "      <td>0</td>\n",
       "      <td>0</td>\n",
       "      <td>0</td>\n",
       "      <td>1</td>\n",
       "      <td>...</td>\n",
       "      <td>0</td>\n",
       "      <td>1</td>\n",
       "      <td>0</td>\n",
       "      <td>0</td>\n",
       "      <td>0</td>\n",
       "      <td>0</td>\n",
       "      <td>0</td>\n",
       "      <td>1</td>\n",
       "      <td>0</td>\n",
       "      <td>0</td>\n",
       "    </tr>\n",
       "    <tr>\n",
       "      <th>Weltenburger Barock Dunkel</th>\n",
       "      <td>0</td>\n",
       "      <td>0</td>\n",
       "      <td>0</td>\n",
       "      <td>0</td>\n",
       "      <td>0</td>\n",
       "      <td>0</td>\n",
       "      <td>0</td>\n",
       "      <td>1</td>\n",
       "      <td>0</td>\n",
       "      <td>1</td>\n",
       "      <td>...</td>\n",
       "      <td>0</td>\n",
       "      <td>0</td>\n",
       "      <td>0</td>\n",
       "      <td>1</td>\n",
       "      <td>0</td>\n",
       "      <td>0</td>\n",
       "      <td>0</td>\n",
       "      <td>1</td>\n",
       "      <td>0</td>\n",
       "      <td>0</td>\n",
       "    </tr>\n",
       "  </tbody>\n",
       "</table>\n",
       "<p>5 rows × 43 columns</p>\n",
       "</div>"
      ],
      "text/plain": [
       "                                    aroma_sweet  aroma_citrus_fruit  \\\n",
       "Name                                                                  \n",
       "Spaten Munich Helles Premium Lager            0                   0   \n",
       "Spaten Oktoberfestbier                        1                   0   \n",
       "Bitbruger Premium Pils                        0                   0   \n",
       "Hofbr?u M?nchen Original Larger               1                   0   \n",
       "Weltenburger Barock Dunkel                    0                   0   \n",
       "\n",
       "                                    aroma_spicy  aroma_pomaceous_fruit  \\\n",
       "Name                                                                     \n",
       "Spaten Munich Helles Premium Lager            0                      0   \n",
       "Spaten Oktoberfestbier                        0                      0   \n",
       "Bitbruger Premium Pils                        0                      1   \n",
       "Hofbr?u M?nchen Original Larger               0                      0   \n",
       "Weltenburger Barock Dunkel                    0                      0   \n",
       "\n",
       "                                    aroma_banana  aroma_fruity  aroma_caramel  \\\n",
       "Name                                                                            \n",
       "Spaten Munich Helles Premium Lager             0             0              0   \n",
       "Spaten Oktoberfestbier                         0             0              1   \n",
       "Bitbruger Premium Pils                         0             0              0   \n",
       "Hofbr?u M?nchen Original Larger                0             0              0   \n",
       "Weltenburger Barock Dunkel                     0             0              0   \n",
       "\n",
       "                                    aroma_hop  aroma_dried_fruit  aroma_malty  \\\n",
       "Name                                                                            \n",
       "Spaten Munich Helles Premium Lager          1                  0            0   \n",
       "Spaten Oktoberfestbier                      0                  0            0   \n",
       "Bitbruger Premium Pils                      0                  0            0   \n",
       "Hofbr?u M?nchen Original Larger             0                  0            1   \n",
       "Weltenburger Barock Dunkel                  1                  0            1   \n",
       "\n",
       "                                    ...  color_straw  color_gold  color_amber  \\\n",
       "Name                                ...                                         \n",
       "Spaten Munich Helles Premium Lager  ...            1           0            0   \n",
       "Spaten Oktoberfestbier              ...            1           0            0   \n",
       "Bitbruger Premium Pils              ...            0           1            0   \n",
       "Hofbr?u M?nchen Original Larger     ...            0           1            0   \n",
       "Weltenburger Barock Dunkel          ...            0           0            0   \n",
       "\n",
       "                                    color_brown  color_black  body_light  \\\n",
       "Name                                                                       \n",
       "Spaten Munich Helles Premium Lager            0            0           0   \n",
       "Spaten Oktoberfestbier                        0            0           0   \n",
       "Bitbruger Premium Pils                        0            0           0   \n",
       "Hofbr?u M?nchen Original Larger               0            0           0   \n",
       "Weltenburger Barock Dunkel                    1            0           0   \n",
       "\n",
       "                                    body_light_medium  body_medium  \\\n",
       "Name                                                                 \n",
       "Spaten Munich Helles Premium Lager                  0            1   \n",
       "Spaten Oktoberfestbier                              0            0   \n",
       "Bitbruger Premium Pils                              1            0   \n",
       "Hofbr?u M?nchen Original Larger                     0            1   \n",
       "Weltenburger Barock Dunkel                          0            1   \n",
       "\n",
       "                                    body_medium_heavy  body_heavy  \n",
       "Name                                                               \n",
       "Spaten Munich Helles Premium Lager                  0           0  \n",
       "Spaten Oktoberfestbier                              1           0  \n",
       "Bitbruger Premium Pils                              0           0  \n",
       "Hofbr?u M?nchen Original Larger                     0           0  \n",
       "Weltenburger Barock Dunkel                          0           0  \n",
       "\n",
       "[5 rows x 43 columns]"
      ]
     },
     "execution_count": 421,
     "metadata": {},
     "output_type": "execute_result"
    }
   ],
   "source": [
    "df2.head()"
   ]
  },
  {
   "cell_type": "markdown",
   "metadata": {},
   "source": [
    "# 2. Agglomerative clustering"
   ]
  },
  {
   "cell_type": "markdown",
   "metadata": {},
   "source": [
    "### construct a distance matrix"
   ]
  },
  {
   "cell_type": "code",
   "execution_count": 422,
   "metadata": {},
   "outputs": [],
   "source": [
    "dist_mat = pdist(df2, metric='jaccard')"
   ]
  },
  {
   "cell_type": "code",
   "execution_count": 423,
   "metadata": {},
   "outputs": [
    {
     "data": {
      "text/plain": [
       "(4186,)"
      ]
     },
     "execution_count": 423,
     "metadata": {},
     "output_type": "execute_result"
    }
   ],
   "source": [
    "dist_mat.shape"
   ]
  },
  {
   "cell_type": "markdown",
   "metadata": {},
   "source": [
    "### construct clusters and plot dendrogram"
   ]
  },
  {
   "cell_type": "code",
   "execution_count": 424,
   "metadata": {},
   "outputs": [],
   "source": [
    "clust = linkage(dist_mat, 'ward')"
   ]
  },
  {
   "cell_type": "code",
   "execution_count": 450,
   "metadata": {},
   "outputs": [],
   "source": [
    "def plot_dendrogram(clust, labels, figsize, labelsize):\n",
    "    plt.rcParams.update({\"font.family\" : \"serif\", \"mathtext.fontset\" : \"stix\"})\n",
    "    plt.rcParams[\"font.serif\"] = [\"Times New Roman\"] + plt.rcParams[\"font.serif\"]\n",
    "    \n",
    "    fig = plt.figure(figsize=figsize)\n",
    "    ax = fig.add_subplot(1, 1, 1)\n",
    "    dendrogram(\n",
    "        clust,\n",
    "        color_threshold=1.15,\n",
    "        orientation='right',\n",
    "        labels=labels,\n",
    "        ax=ax\n",
    "    )\n",
    "    ax.tick_params(axis='both', labelsize=labelsize)"
   ]
  },
  {
   "cell_type": "code",
   "execution_count": 451,
   "metadata": {},
   "outputs": [
    {
     "data": {
      "image/png": "[encoded data removed]",
      "text/plain": [
       "<Figure size 720x1728 with 1 Axes>"
      ]
     },
     "metadata": {
      "needs_background": "light"
     },
     "output_type": "display_data"
    }
   ],
   "source": [
    "plot_dendrogram(clust, df2.index, (10, 24), 11)"
   ]
  },
  {
   "cell_type": "markdown",
   "metadata": {},
   "source": [
    "### compute silhouette score and plot"
   ]
  },
  {
   "cell_type": "code",
   "execution_count": 427,
   "metadata": {},
   "outputs": [],
   "source": [
    "# convert vector to square matrix\n",
    "dist_mat = squareform(dist_mat)\n",
    "\n",
    "scores = []\n",
    "for i in range(2, 31):\n",
    "    clust_labels = cut_tree(clust, i).reshape(-1)\n",
    "    scores.append(silhouette_score(dist_mat, clust_labels, metric='precomputed'))"
   ]
  },
  {
   "cell_type": "code",
   "execution_count": 428,
   "metadata": {},
   "outputs": [],
   "source": [
    "def plot_silhouette_score(scores, figsize):\n",
    "    fig = plt.figure(figsize=figsize)\n",
    "    ax = fig.add_subplot(1, 1, 1)\n",
    "    \n",
    "    x = np.arange(2, 31)\n",
    "    ax.scatter(x, scores)\n",
    "    \n",
    "    ax.set_xlabel('the number of clusters', fontsize=14, labelpad=10)\n",
    "    ax.set_ylabel('silhouette score', fontsize=14, labelpad=10)"
   ]
  },
  {
   "cell_type": "code",
   "execution_count": 429,
   "metadata": {},
   "outputs": [
    {
     "data": {
      "image/png": "[encoded data removed]",
      "text/plain": [
       "<Figure size 576x288 with 1 Axes>"
      ]
     },
     "metadata": {
      "needs_background": "light"
     },
     "output_type": "display_data"
    }
   ],
   "source": [
    "plot_silhouette_score(scores, (8, 4))"
   ]
  },
  {
   "cell_type": "markdown",
   "metadata": {},
   "source": [
    "# 3. Get characteristics of each cluster"
   ]
  },
  {
   "cell_type": "markdown",
   "metadata": {},
   "source": [
    "### cut tree to make 15 clusters"
   ]
  },
  {
   "cell_type": "code",
   "execution_count": 430,
   "metadata": {},
   "outputs": [],
   "source": [
    "n_clusters = 15\n",
    "clust_labels = cut_tree(clust, n_clusters).reshape(-1)"
   ]
  },
  {
   "cell_type": "markdown",
   "metadata": {},
   "source": [
    "### get characteristics of each cluster"
   ]
  },
  {
   "cell_type": "code",
   "execution_count": 442,
   "metadata": {},
   "outputs": [],
   "source": [
    "def get_each_cluster_characteristics(df, n_each_characteristic, clust_labels, count_thresh):\n",
    "    \n",
    "    beer_names = []\n",
    "    characteristics = {'Aroma': [], 'Flavor': [], 'Color': [], 'Body': []}\n",
    "    \n",
    "    n_clusters = np.unique(clust_labels).shape[0]\n",
    "    \n",
    "    for clust_label in range(n_clusters):\n",
    "        # select beers assigned to this cluster\n",
    "        idx = np.where(clust_labels == clust_label)[0]\n",
    "        counts = df2.iloc[idx].sum()\n",
    "        \n",
    "        # get name of beers in this cluster\n",
    "        beer_names.append(', '.join(df.index[idx]))\n",
    "        \n",
    "        # get characteristic of this cluster\n",
    "        n_total = 0\n",
    "        for k, n in zip(characteristics.keys(), n_each_characteristic):\n",
    "            if k == 'Aroma' or k == 'Flavor':\n",
    "                target = np.where(counts[n_total:n_total + n ] >= count_thresh)[0]\n",
    "            else:\n",
    "                target = [np.argmax(counts[n_total:n_total + n]) + n_total]\n",
    "            \n",
    "            characteristic = []\n",
    "            for c in df.columns[target]:\n",
    "                splits = c.split('_')\n",
    "                characteristic.append(' '.join(splits[1:]))\n",
    "            \n",
    "            characteristics[k].append(', '.join(characteristic))\n",
    "            \n",
    "            n_total += n\n",
    "            \n",
    "    characteristics['Name'] = beer_names\n",
    "    \n",
    "    characteristics = pd.DataFrame(characteristics, index=pd.Index(np.arange(1, n_clusters + 1)))\n",
    "    characteristics = characteristics[['Name', 'Aroma', 'Flavor', 'Color', 'Body']]\n",
    "    \n",
    "    return characteristics"
   ]
  },
  {
   "cell_type": "code",
   "execution_count": 443,
   "metadata": {},
   "outputs": [],
   "source": [
    "n_each_characteristic = [len(v) for v in data.values()]\n",
    "df3 = get_each_cluster_characteristics(df2, n_each_characteristic, clust_labels, count_thresh=2)"
   ]
  },
  {
   "cell_type": "code",
   "execution_count": 444,
   "metadata": {},
   "outputs": [
    {
     "data": {
      "text/html": [
       "<div>\n",
       "<style scoped>\n",
       "    .dataframe tbody tr th:only-of-type {\n",
       "        vertical-align: middle;\n",
       "    }\n",
       "\n",
       "    .dataframe tbody tr th {\n",
       "        vertical-align: top;\n",
       "    }\n",
       "\n",
       "    .dataframe thead th {\n",
       "        text-align: right;\n",
       "    }\n",
       "</style>\n",
       "<table border=\"1\" class=\"dataframe\">\n",
       "  <thead>\n",
       "    <tr style=\"text-align: right;\">\n",
       "      <th></th>\n",
       "      <th>Name</th>\n",
       "      <th>Aroma</th>\n",
       "      <th>Flavor</th>\n",
       "      <th>Color</th>\n",
       "      <th>Body</th>\n",
       "    </tr>\n",
       "  </thead>\n",
       "  <tbody>\n",
       "    <tr>\n",
       "      <th>1</th>\n",
       "      <td>Spaten Munich Helles Premium Lager, Hoegaarden...</td>\n",
       "      <td>citrus fruit, hop</td>\n",
       "      <td>sweet</td>\n",
       "      <td>straw</td>\n",
       "      <td>light</td>\n",
       "    </tr>\n",
       "    <tr>\n",
       "      <th>2</th>\n",
       "      <td>Spaten Oktoberfestbier, Paulaner Salvator, Bos...</td>\n",
       "      <td>sweet, pomaceous fruit, caramel, dried fruit, ...</td>\n",
       "      <td>sweet, citrus fruit, berry</td>\n",
       "      <td>brown</td>\n",
       "      <td>heavy</td>\n",
       "    </tr>\n",
       "    <tr>\n",
       "      <th>3</th>\n",
       "      <td>Bitbruger Premium Pils, Dom K?lsch, Gaffel K?l...</td>\n",
       "      <td>fruity</td>\n",
       "      <td>fruity</td>\n",
       "      <td>gold</td>\n",
       "      <td>light medium</td>\n",
       "    </tr>\n",
       "    <tr>\n",
       "      <th>4</th>\n",
       "      <td>Hofbr?u M?nchen Original Larger, K?stritzer Sc...</td>\n",
       "      <td>sweet, roasty</td>\n",
       "      <td>sweet, spicy, banana, roasty, citrus fruit</td>\n",
       "      <td>black</td>\n",
       "      <td>medium</td>\n",
       "    </tr>\n",
       "    <tr>\n",
       "      <th>5</th>\n",
       "      <td>Weltenburger Barock Dunkel, Andechs Weissbier ...</td>\n",
       "      <td>sweet, roasty</td>\n",
       "      <td>sweet, pomaceous fruit, roasty, citrus</td>\n",
       "      <td>brown</td>\n",
       "      <td>medium</td>\n",
       "    </tr>\n",
       "  </tbody>\n",
       "</table>\n",
       "</div>"
      ],
      "text/plain": [
       "                                                Name  \\\n",
       "1  Spaten Munich Helles Premium Lager, Hoegaarden...   \n",
       "2  Spaten Oktoberfestbier, Paulaner Salvator, Bos...   \n",
       "3  Bitbruger Premium Pils, Dom K?lsch, Gaffel K?l...   \n",
       "4  Hofbr?u M?nchen Original Larger, K?stritzer Sc...   \n",
       "5  Weltenburger Barock Dunkel, Andechs Weissbier ...   \n",
       "\n",
       "                                               Aroma  \\\n",
       "1                                  citrus fruit, hop   \n",
       "2  sweet, pomaceous fruit, caramel, dried fruit, ...   \n",
       "3                                             fruity   \n",
       "4                                      sweet, roasty   \n",
       "5                                      sweet, roasty   \n",
       "\n",
       "                                       Flavor  Color          Body  \n",
       "1                                       sweet  straw         light  \n",
       "2                  sweet, citrus fruit, berry  brown         heavy  \n",
       "3                                      fruity   gold  light medium  \n",
       "4  sweet, spicy, banana, roasty, citrus fruit  black        medium  \n",
       "5      sweet, pomaceous fruit, roasty, citrus  brown        medium  "
      ]
     },
     "execution_count": 444,
     "metadata": {},
     "output_type": "execute_result"
    }
   ],
   "source": [
    "df3.head()"
   ]
  },
  {
   "cell_type": "markdown",
   "metadata": {},
   "source": [
    "### save results"
   ]
  },
  {
   "cell_type": "code",
   "execution_count": 445,
   "metadata": {},
   "outputs": [],
   "source": [
    "df3.to_csv('clusters.csv', index=False)"
   ]
  },
  {
   "cell_type": "code",
   "execution_count": 435,
   "metadata": {},
   "outputs": [],
   "source": [
    "df['Cluster'] = clust_labels\n",
    "df = df.sort_values(by='Cluster')\n",
    "df.to_csv('results.csv', index=False)"
   ]
  },
  {
   "cell_type": "code",
   "execution_count": null,
   "metadata": {},
   "outputs": [],
   "source": []
  }
 ],
 "metadata": {
  "kernelspec": {
   "display_name": "Python 3",
   "language": "python",
   "name": "python3"
  },
  "language_info": {
   "codemirror_mode": {
    "name": "ipython",
    "version": 3
   },
   "file_extension": ".py",
   "mimetype": "text/x-python",
   "name": "python",
   "nbconvert_exporter": "python",
   "pygments_lexer": "ipython3",
   "version": "3.8.5"
  }
 },
 "nbformat": 4,
 "nbformat_minor": 4
}
